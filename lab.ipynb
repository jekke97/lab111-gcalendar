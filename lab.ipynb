{
 "cells": [
  {
   "cell_type": "code",
   "execution_count": 2,
   "id": "e782a79a-16a6-4e88-a904-bef1c821d73c",
   "metadata": {},
   "outputs": [],
   "source": [
    "import re\n",
    "import os\n",
    "import time\n",
    "import pickle\n",
    "import requests\n",
    "from zoneinfo import ZoneInfo\n",
    "from bs4 import BeautifulSoup\n",
    "from datetime import datetime, date, timedelta\n",
    "from apiclient.discovery import build\n",
    "from google_auth_oauthlib.flow import InstalledAppFlow as iaf\n",
    "\n",
    "os.chdir('/Users/ettore/Desktop/')"
   ]
  },
  {
   "cell_type": "code",
   "execution_count": 3,
   "id": "4ad5d66b-de78-42fc-8916-54bed8a2c1c9",
   "metadata": {},
   "outputs": [
    {
     "name": "stdout",
     "output_type": "stream",
     "text": [
      "Please visit this URL to authorize this application: https://accounts.google.com/o/oauth2/auth?response_type=code&client_id=986027283668-umflbqc7g1s7alpv4nrgmqccilu4gev1.apps.googleusercontent.com&redirect_uri=urn%3Aietf%3Awg%3Aoauth%3A2.0%3Aoob&scope=https%3A%2F%2Fwww.googleapis.com%2Fauth%2Fcalendar&state=RNiFSw5AHccCK1AB4VX29JlYhbpBTr&prompt=consent&access_type=offline\n"
     ]
    },
    {
     "name": "stdin",
     "output_type": "stream",
     "text": [
      "Enter the authorization code:  4/1AX4XfWgyfSAA8hPUlO37uwlQ0kgnyEFiEAyIYETrpDR4DUQjJ1PLIlUoVtw\n"
     ]
    }
   ],
   "source": [
    "## API setup\n",
    "\n",
    "scope       = ['https://www.googleapis.com/auth/calendar']\n",
    "flow        = iaf.from_client_secrets_file('client_secret.json', scopes=scope)\n",
    "credtype    = 'flow' # can be 'flow' or 'pickle'\n",
    "\n",
    "# pickle.dump(credentials, open('token.pkl', 'wb'))\n",
    "\n",
    "if credtype == 'flow':\n",
    "    credentials = flow.run_console()\n",
    "elif credtype == 'pickle':\n",
    "    try:\n",
    "        credentials = pickle.load(open('token.pkl', 'rb'))\n",
    "    except:\n",
    "        print('Pickle not found')\n",
    "else:\n",
    "    print('Please specify credtype correctly')\n",
    "    \n",
    "service = build('calendar', 'v3', credentials=credentials)"
   ]
  },
  {
   "cell_type": "code",
   "execution_count": 4,
   "id": "71e1821b-9322-499f-af65-29e3c0777c6b",
   "metadata": {},
   "outputs": [],
   "source": [
    "## Scraping\n",
    "\n",
    "URL  = \"https://www.lab111.nl/programma/listview/\"\n",
    "page = requests.get(URL)\n",
    "soup = BeautifulSoup(page.content, \"lxml\")\n",
    "forecast = 3 # +1\n",
    "\n",
    "program = []\n",
    "for day in range(forecast):\n",
    "    movielist = soup.find_all('tr', class_=f'day{day}')\n",
    "    movielist = movielist[1:]\n",
    "    \n",
    "    for movie in movielist: \n",
    "        movie_url = re.findall('(?P<url>https?://[^\\s]+\")',str(movie))[1]\n",
    "        movie_url = movie_url[:-1]        \n",
    "        \n",
    "        shows = dict()\n",
    "        shows ={\n",
    "          \"s_time\": movie.findAll('a')[0].text,\n",
    "          \"duration\": BeautifulSoup(requests.get(movie_url).content, 'lxml').find_all('ul', class_=\"speelduur\")[0].text,\n",
    "          \"name\": movie.findAll('a')[1].text,\n",
    "          \"day\": day,\n",
    "          \"lab\": movie.find('span').text,\n",
    "          \"ticket\": str(movie.find('a', class_='button tic')).split('\\\"')[3]\n",
    "        }\n",
    "        program.append(shows)"
   ]
  },
  {
   "cell_type": "code",
   "execution_count": 6,
   "id": "a1bdaca9-4ef8-4af0-8463-07eae6cb85ad",
   "metadata": {},
   "outputs": [
    {
     "name": "stdout",
     "output_type": "stream",
     "text": [
      "Calendar not created\n"
     ]
    }
   ],
   "source": [
    "def check_lab(result):\n",
    "    check = False\n",
    "    for i in range(len(result['items'])):\n",
    "        if result['items'][i]['summary'] == 'lab111':\n",
    "            check = True\n",
    "    return check\n",
    "\n",
    "calendars = service.calendarList().list().execute()\n",
    "if not check_lab(calendars):\n",
    "    calendar = {\n",
    "    'summary': 'lab111',\n",
    "    'timeZone': 'Europe/Amsterdam',\n",
    "    }\n",
    "    created_calendar = service.calendars().insert(body=calendar).execute()\n",
    "    print('Calendar created')\n",
    "else:\n",
    "    print('Calendar not created')"
   ]
  },
  {
   "cell_type": "code",
   "execution_count": 7,
   "id": "e9d8fd63-ad6a-4026-ab15-c297affa053a",
   "metadata": {},
   "outputs": [],
   "source": [
    "def create_event(show):\n",
    "    \n",
    "    now      = datetime.now()\n",
    "    tz       = ZoneInfo(\"Europe/Amsterdam\").key\n",
    "    starT    = [int(x) for x in show['s_time'].split(':')] # hour and minutes\n",
    "    duration = [int(x) for x in re.findall(r'\\d+', show['duration'])]\n",
    "    startTime= datetime(now.year, now.month, (now.day + show['day']), starT[0], starT[1])\n",
    "    endTime  = startTime + timedelta(hours=duration[0], minutes=duration[1])\n",
    "    \n",
    "    event    = {\n",
    "      'summary': show['name'],\n",
    "      'location': show['lab'],\n",
    "      'description': show['ticket'],\n",
    "      'start': {\n",
    "        'dateTime': startTime.isoformat(),\n",
    "        'timeZone': tz,\n",
    "      },\n",
    "      'end': { \n",
    "        'dateTime': endTime.isoformat(),\n",
    "        'timeZone': tz,\n",
    "      }\n",
    "    }\n",
    "    return event"
   ]
  },
  {
   "cell_type": "code",
   "execution_count": 9,
   "id": "6d318274-f0bb-4069-b4fe-de5d72f4cd47",
   "metadata": {},
   "outputs": [
    {
     "name": "stdout",
     "output_type": "stream",
     "text": [
      "0 shows were added and 41 shows were already present\n"
     ]
    }
   ],
   "source": [
    "# get calendard id of lab111 calendar\n",
    "out_cal = 0\n",
    "for cal in calendars['items']:\n",
    "    if cal['summary'] == 'lab111':\n",
    "        calendarId = cal['id']\n",
    "        \n",
    "# get lab events already present\n",
    "cal_events = []\n",
    "page_token = None\n",
    "while True:\n",
    "  events = service.events().list(calendarId=calendarId, pageToken=page_token).execute()\n",
    "  for event in events['items']:\n",
    "    cal_events.append(str(event['description']))\n",
    "  page_token = events.get('nextPageToken')\n",
    "  if not page_token:\n",
    "    break    \n",
    "\n",
    "# add events\n",
    "counts = [0, 0]\n",
    "for show in program:\n",
    "    ticket_id = show['ticket']\n",
    "    if not ticket_id in cal_events:\n",
    "        service.events().insert(calendarId = calendarId, body = create_event(show)).execute()\n",
    "        counts[0] += 1\n",
    "        time.sleep(.3)\n",
    "    else:\n",
    "        counts[1] += 1\n",
    "print(f'{counts[0]} shows were added and {counts[1]} shows were already present')"
   ]
  },
  {
   "cell_type": "code",
   "execution_count": null,
   "id": "978ba2fb-0d2e-4c6e-b6d2-1924db216fa7",
   "metadata": {},
   "outputs": [],
   "source": []
  }
 ],
 "metadata": {
  "kernelspec": {
   "display_name": "Python 3 (ipykernel)",
   "language": "python",
   "name": "python3"
  },
  "language_info": {
   "codemirror_mode": {
    "name": "ipython",
    "version": 3
   },
   "file_extension": ".py",
   "mimetype": "text/x-python",
   "name": "python",
   "nbconvert_exporter": "python",
   "pygments_lexer": "ipython3",
   "version": "3.9.7"
  }
 },
 "nbformat": 4,
 "nbformat_minor": 5
}
