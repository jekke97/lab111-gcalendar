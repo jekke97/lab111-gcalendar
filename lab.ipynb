{
 "cells": [
  {
   "cell_type": "code",
   "execution_count": 1,
   "id": "e782a79a-16a6-4e88-a904-bef1c821d73c",
   "metadata": {},
   "outputs": [],
   "source": [
    "import re\n",
    "import os\n",
    "import pickle\n",
    "import requests\n",
    "from zoneinfo import ZoneInfo\n",
    "from bs4 import BeautifulSoup\n",
    "from datetime import datetime, date, timedelta\n",
    "from apiclient.discovery import build\n",
    "from google_auth_oauthlib.flow import InstalledAppFlow as iaf\n",
    "\n",
    "os.chdir('/Users/ettore/Desktop/')"
   ]
  },
  {
   "cell_type": "code",
   "execution_count": 2,
   "id": "8441efd1-dba1-4338-b043-57d82ea4cd4e",
   "metadata": {},
   "outputs": [],
   "source": [
    "## Scraping\n",
    "\n",
    "URL  = \"https://www.lab111.nl/programma/listview/\"\n",
    "page = requests.get(URL)\n",
    "soup = BeautifulSoup(page.content, \"lxml\")\n",
    "forecast = 6 # +1\n",
    "\n",
    "program = []\n",
    "for day in range(forecast):\n",
    "\n",
    "    movielist = soup.find_all('tr', class_=f'day{day}')\n",
    "    movielist = movielist[1:]\n",
    "    #session = requests.Session()\n",
    "    \n",
    "    for movie in movielist: \n",
    "        \n",
    "        movie_url = re.findall('(?P<url>https?://[^\\s]+\")',str(movie))[1]\n",
    "        movie_url = movie_url[:-1]        \n",
    "        \n",
    "        shows = dict()\n",
    "        shows ={\n",
    "          \"s_time\": movie.findAll('a')[0].text,\n",
    "          \"duration\": BeautifulSoup(requests.get(movie_url).content, 'lxml').find_all('ul', class_=\"speelduur\")[0].text,\n",
    "          \"name\": movie.findAll('a')[1].text,\n",
    "          \"day\": day,\n",
    "          \"lab\": movie.find('span').text,\n",
    "          \"ticket\": str(movie.find('a', class_='button tic')).split('\\\"')[3]\n",
    "        }\n",
    "        program.append(shows)"
   ]
  },
  {
   "cell_type": "code",
   "execution_count": 6,
   "id": "a10b4610-59c0-4499-898f-41c2f0deaeb0",
   "metadata": {},
   "outputs": [
    {
     "name": "stdout",
     "output_type": "stream",
     "text": [
      "Please visit this URL to authorize this application: https://accounts.google.com/o/oauth2/auth?response_type=code&client_id=986027283668-umflbqc7g1s7alpv4nrgmqccilu4gev1.apps.googleusercontent.com&redirect_uri=urn%3Aietf%3Awg%3Aoauth%3A2.0%3Aoob&scope=https%3A%2F%2Fwww.googleapis.com%2Fauth%2Fcalendar&state=ik243nQsVvXuxfpqLfUScY6aFU8ssl&prompt=consent&access_type=offline\n"
     ]
    },
    {
     "name": "stdin",
     "output_type": "stream",
     "text": [
      "Enter the authorization code:  4/1AX4XfWib1faDRWHOBzKpg0Pi5pQ4K90e1z57f95YQOz8R7Ucb8335Sa7ZiU\n"
     ]
    }
   ],
   "source": [
    "## API setup\n",
    "\n",
    "scope       = ['https://www.googleapis.com/auth/calendar']\n",
    "flow        = iaf.from_client_secrets_file('client_secret.json', scopes=scope)\n",
    "credtype    = 'flow' # can be 'flow' or 'pickle'\n",
    "\n",
    "# pickle.dump(credentials, open('token.pkl', 'wb'))\n",
    "\n",
    "if credtype == 'flow':\n",
    "    credentials = flow.run_console()\n",
    "elif credtype == 'pickle':\n",
    "    try:\n",
    "        credentials = pickle.load(open('token.pkl', 'rb'))\n",
    "    except:\n",
    "        print('Pickle not found')\n",
    "else:\n",
    "    print('Please specify credtype correctly')\n",
    "    \n",
    "service = build('calendar', 'v3', credentials=credentials)"
   ]
  },
  {
   "cell_type": "code",
   "execution_count": 29,
   "id": "a7a9588d-71cb-4db9-8902-e4eb8be7a941",
   "metadata": {},
   "outputs": [
    {
     "name": "stdout",
     "output_type": "stream",
     "text": [
      "Calendar not created\n"
     ]
    }
   ],
   "source": [
    "def check_lab(result):\n",
    "    check = False\n",
    "    for i in range(len(result['items'])):\n",
    "        if result['items'][i]['summary'] == 'lab111':\n",
    "            check = True\n",
    "    return check\n",
    "\n",
    "calendars = service.calendarList().list().execute()\n",
    "if not check_lab(calendars):\n",
    "    calendar = {\n",
    "    'summary': 'lab111',\n",
    "    'timeZone': 'Europe/Amsterdam',\n",
    "    }\n",
    "    created_calendar = service.calendars().insert(body=calendar).execute()\n",
    "    print('Calendar created')\n",
    "else:\n",
    "    print('Calendar not created')"
   ]
  },
  {
   "cell_type": "code",
   "execution_count": 40,
   "id": "44bf0172-c3d6-433f-a0c7-afc6c1ccb19e",
   "metadata": {},
   "outputs": [
    {
     "name": "stdout",
     "output_type": "stream",
     "text": [
      "Show already present\n",
      "Show already present\n",
      "Show already present\n",
      "Show already present\n",
      "Show already present\n",
      "Show already present\n",
      "Show already present\n",
      "Show already present\n",
      "Show already present\n",
      "Show already present\n",
      "Show already present\n",
      "Show already present\n",
      "Show already present\n",
      "Show already present\n",
      "Show already present\n",
      "Show already present\n",
      "Show already present\n",
      "Show already present\n",
      "Show already present\n",
      "Show already present\n",
      "Show already present\n",
      "Show already present\n",
      "Show already present\n",
      "Show already present\n",
      "Show already present\n",
      "Show already present\n",
      "Show already present\n",
      "Show already present\n",
      "Show already present\n",
      "Show already present\n",
      "Show already present\n",
      "Show already present\n",
      "Show already present\n",
      "Show already present\n",
      "Show already present\n",
      "Show already present\n",
      "Show already present\n",
      "Show already present\n",
      "Show already present\n",
      "Show already present\n",
      "Show already present\n",
      "Show already present\n",
      "Show already present\n",
      "Show already present\n",
      "Show already present\n",
      "Show already present\n",
      "Show already present\n",
      "Show already present\n",
      "Show already present\n",
      "Show already present\n",
      "Show already present\n",
      "Show already present\n",
      "Show already present\n",
      "Show already present\n",
      "Show already present\n",
      "Show already present\n",
      "Show already present\n",
      "Show already present\n",
      "Show already present\n",
      "Show already present\n",
      "Show already present\n",
      "Show already present\n",
      "Show already present\n",
      "Show already present\n",
      "Show already present\n",
      "Show already present\n",
      "Show already present\n",
      "Show already present\n",
      "Show already present\n",
      "Show already present\n",
      "Show already present\n",
      "Show already present\n",
      "Show already present\n",
      "Show already present\n",
      "Show already present\n",
      "Show already present\n",
      "Show already present\n",
      "Show added\n",
      "Show added\n",
      "Show added\n",
      "Show added\n",
      "Show added\n",
      "Show added\n",
      "Show added\n",
      "Show added\n",
      "Show added\n",
      "Show added\n",
      "Show added\n",
      "Show added\n"
     ]
    }
   ],
   "source": [
    "def create_event(show):\n",
    "    \n",
    "    now      = datetime.now()\n",
    "    tz       = ZoneInfo(\"Europe/Amsterdam\").key\n",
    "    starT    = [int(x) for x in show['s_time'].split(':')] # hour and minutes\n",
    "    duration = [int(x) for x in re.findall(r'\\d+', show['duration'])]\n",
    "    startTime= datetime(now.year, now.month, (now.day + show['day'] + 1), starT[0], starT[1])\n",
    "    endTime  = startTime + timedelta(hours=duration[0], minutes=duration[1])\n",
    "    \n",
    "    event    = {\n",
    "      'summary': show['name'],\n",
    "      'location': show['lab'],\n",
    "      'description': show['ticket'],\n",
    "      'start': {\n",
    "        'dateTime': startTime.isoformat(),\n",
    "        'timeZone': tz,\n",
    "      },\n",
    "      'end': { \n",
    "        'dateTime': endTime.isoformat(),\n",
    "        'timeZone': tz,\n",
    "      }\n",
    "    }\n",
    "    return event\n",
    "    \n",
    "# get calendard id of lab111 calendar\n",
    "out_cal = 0\n",
    "for cal in calendars['items']:\n",
    "    if cal['summary'] == 'lab111':\n",
    "        calendarId = cal['id']\n",
    "        \n",
    "# get lab events already present\n",
    "events = service.events().list(calendarId=calendarId).execute()\n",
    "cal_events = []\n",
    "for event in events['items']:\n",
    "    cal_events.append(str(event['description']))\n",
    "\n",
    "# add events\n",
    "for show in program:\n",
    "    ticket_id = show['ticket']\n",
    "    if not ticket_id in cal_events:\n",
    "        service.events().insert(calendarId = calendarId, body = create_event(show)).execute()\n",
    "        print('Show added')\n",
    "    else:\n",
    "        print('Show already present')"
   ]
  },
  {
   "cell_type": "code",
   "execution_count": 23,
   "id": "af720c21-e8b8-4ebd-b51e-5bb8462a5331",
   "metadata": {},
   "outputs": [],
   "source": [
    "#look in cals for lab"
   ]
  },
  {
   "cell_type": "code",
   "execution_count": 32,
   "id": "c2522af3-c44f-4457-9dd0-6fbd01a3552b",
   "metadata": {},
   "outputs": [
    {
     "name": "stdout",
     "output_type": "stream",
     "text": [
      "592gqufmh1mbbekq4of63d9f5s@group.calendar.google.com\n"
     ]
    }
   ],
   "source": [
    "\n",
    "print(calendarId)"
   ]
  },
  {
   "cell_type": "code",
   "execution_count": 30,
   "id": "37f9f319-7466-47b1-a6de-df90bf98492f",
   "metadata": {},
   "outputs": [
    {
     "name": "stdout",
     "output_type": "stream",
     "text": [
      "Deadlines\n",
      "Transportation\n",
      "Self-care\n",
      "Medidation\n",
      "Physical activity\n",
      "Hobby\n",
      "Psychotherapist\n",
      "Work\n",
      "Friends and family\n",
      "ettorecerracchio@gmail.com\n",
      "Festività in Italia\n",
      "Holidays in Italy\n",
      "lab111\n"
     ]
    }
   ],
   "source": [
    "for cal in calendars['items']:\n",
    "    print(cal['summary'])"
   ]
  },
  {
   "cell_type": "code",
   "execution_count": 37,
   "id": "ecaa4d6f-cc86-40b7-8108-98cb8a2ad69d",
   "metadata": {},
   "outputs": [
    {
     "data": {
      "text/plain": [
       "int"
      ]
     },
     "execution_count": 37,
     "metadata": {},
     "output_type": "execute_result"
    }
   ],
   "source": [
    "type(program[1]['day'])"
   ]
  },
  {
   "cell_type": "code",
   "execution_count": null,
   "id": "454792f0-5742-4569-98b7-253b8adeda56",
   "metadata": {},
   "outputs": [],
   "source": []
  }
 ],
 "metadata": {
  "kernelspec": {
   "display_name": "Python 3 (ipykernel)",
   "language": "python",
   "name": "python3"
  },
  "language_info": {
   "codemirror_mode": {
    "name": "ipython",
    "version": 3
   },
   "file_extension": ".py",
   "mimetype": "text/x-python",
   "name": "python",
   "nbconvert_exporter": "python",
   "pygments_lexer": "ipython3",
   "version": "3.9.7"
  }
 },
 "nbformat": 4,
 "nbformat_minor": 5
}
